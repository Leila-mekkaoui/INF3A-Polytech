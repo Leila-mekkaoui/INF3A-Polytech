{
 "cells": [
  {
   "metadata": {},
   "cell_type": "markdown",
   "source": "Exercice 1 : Gestion des Erreurs",
   "id": "bc8254e827c36b0"
  },
  {
   "metadata": {
    "ExecuteTime": {
     "end_time": "2025-09-24T10:10:22.475754Z",
     "start_time": "2025-09-24T10:10:22.470801Z"
    }
   },
   "cell_type": "code",
   "source": [
    "from logging import exception\n",
    "\n",
    "try :\n",
    "    x = 4\n",
    "    y = 0\n",
    "    resultat = x / y\n",
    "    print(f\"Le résultat de {x} divisé par {y} est {resultat}\")\n",
    "except Exception as e:\n",
    "    print(f\"Erreur : \", e)"
   ],
   "id": "2b2729e9059ec945",
   "outputs": [
    {
     "name": "stdout",
     "output_type": "stream",
     "text": [
      "Erreur :  division by zero\n"
     ]
    }
   ],
   "execution_count": 4
  },
  {
   "metadata": {
    "ExecuteTime": {
     "end_time": "2025-09-24T10:11:26.016783Z",
     "start_time": "2025-09-24T10:11:26.012029Z"
    }
   },
   "cell_type": "code",
   "source": [
    "try:\n",
    "    chaine = \"Bonjour\"\n",
    "    entier = int(chaine)\n",
    "except Exception as e:\n",
    "    print(f\"Erreur : \", e)"
   ],
   "id": "1b52f463f3444703",
   "outputs": [
    {
     "name": "stdout",
     "output_type": "stream",
     "text": [
      "Erreur :  invalid literal for int() with base 10: 'Bonjour'\n"
     ]
    }
   ],
   "execution_count": 5
  },
  {
   "metadata": {
    "ExecuteTime": {
     "end_time": "2025-09-24T10:30:59.982011Z",
     "start_time": "2025-09-24T10:30:59.977164Z"
    }
   },
   "cell_type": "code",
   "source": [
    "try:\n",
    "    x=3\n",
    "except:\n",
    "    print(\"Erreur : x n'est pas défini\")\n",
    "else:\n",
    "    print(f\"x est défini et vaut {x}\")\n",
    "finally:\n",
    "    print(\"Fin du bloc try-except\")"
   ],
   "id": "d162025eae1d81d3",
   "outputs": [
    {
     "name": "stdout",
     "output_type": "stream",
     "text": [
      "x est défini et vaut 3\n",
      "Fin du bloc try-except\n"
     ]
    }
   ],
   "execution_count": 6
  },
  {
   "metadata": {},
   "cell_type": "markdown",
   "source": "Exercice 2 Validation entrée utilisateur",
   "id": "dc1130dd5dfd9eea"
  },
  {
   "metadata": {
    "ExecuteTime": {
     "end_time": "2025-09-24T10:34:26.992044Z",
     "start_time": "2025-09-24T10:34:21.469926Z"
    }
   },
   "cell_type": "code",
   "source": [
    "def demander_entier():\n",
    "    while True:\n",
    "        try:\n",
    "            valeur=int(input(\"Veuillez entrer un entier : \"))\n",
    "            if valeur > 0:\n",
    "                return valeur\n",
    "            else:\n",
    "                print(\"Erreur : L'entier doit être positif.\")\n",
    "        except ValueError:\n",
    "            print(\"Erreur : Vous n'avez pas entré un entier valide.\")\n",
    "\n",
    "demander_entier()"
   ],
   "id": "9946334c1e62e04d",
   "outputs": [
    {
     "name": "stdout",
     "output_type": "stream",
     "text": [
      "Erreur : Vous n'avez pas entré un entier valide.\n"
     ]
    },
    {
     "data": {
      "text/plain": [
       "9"
      ]
     },
     "execution_count": 10,
     "metadata": {},
     "output_type": "execute_result"
    }
   ],
   "execution_count": 10
  },
  {
   "metadata": {},
   "cell_type": "markdown",
   "source": "Exercice 3 : Gestion des erreurs pour une application de calculatrice",
   "id": "18c0f0d51d24ef5a"
  },
  {
   "metadata": {
    "ExecuteTime": {
     "end_time": "2025-09-25T06:45:39.384329Z",
     "start_time": "2025-09-25T06:45:37.069816Z"
    }
   },
   "cell_type": "code",
   "source": [
    "from cmath import exp\n",
    "\n",
    "def calculatrice():\n",
    "    try:\n",
    "        operateur = input(\"Entrez l'opérateur (+, -, *, /, sqrt, sqr, exp) : \")\n",
    "        liste_operateur_deux_valeur = ['x', '*', '+', '-','/', 'sqr']\n",
    "        liste_operateur_une_valeur = ['sqrt', 'exp']\n",
    "\n",
    "        if operateur in liste_operateur_deux_valeur:\n",
    "            x = float(input(\"Entrez le premier nombre : \"))\n",
    "            y = float(input(\"Entrez le deuxième nombre : \"))\n",
    "        elif operateur in liste_operateur_une_valeur:\n",
    "            x = float(input(\"Entrez le nombre : \"))\n",
    "        else:\n",
    "            raise ValueError(\"Erreur : Opérateur invalide.\")\n",
    "\n",
    "        match operateur:\n",
    "            case 'x' | '*':\n",
    "                reponse = x * y\n",
    "            case '+':\n",
    "                reponse = x + y\n",
    "            case '-':\n",
    "                reponse = x - y\n",
    "            case '/':\n",
    "                if y == 0:\n",
    "                    raise ZeroDivisionError(\"Erreur : Division par zéro.\")\n",
    "                reponse = x / y\n",
    "            case'sqrt':\n",
    "                if x<0:\n",
    "                    raise ValueError(\"Erreur : Racine carrée d'un nombre négatif.\")\n",
    "                reponse = x ** 0.5\n",
    "            case 'sqr':\n",
    "                reponse = x ** y\n",
    "            case 'exp':\n",
    "                reponse = exp(x)\n",
    "\n",
    "        print(f\"reponse = {reponse}\")\n",
    "\n",
    "    except Exception as e:\n",
    "        print(f\"Erreur inattendue : {e}\")\n",
    "\n",
    "calculatrice()"
   ],
   "id": "62369e0c875f41bd",
   "outputs": [
    {
     "name": "stdout",
     "output_type": "stream",
     "text": [
      "Erreur inattendue : Erreur : Opérateur invalide.\n"
     ]
    }
   ],
   "execution_count": 3
  },
  {
   "metadata": {},
   "cell_type": "markdown",
   "source": "Lecture et ecriture des fichiers",
   "id": "a38c2de22eaf7cbb"
  },
  {
   "metadata": {
    "ExecuteTime": {
     "end_time": "2025-09-24T10:49:12.209307Z",
     "start_time": "2025-09-24T10:49:12.173008Z"
    }
   },
   "cell_type": "code",
   "source": [
    "def lire_fichier(nom_fichier):\n",
    "    try:\n",
    "        with open(nom_fichier, 'r') as fichier:\n",
    "            contenu = fichier.read()\n",
    "            print(contenu)\n",
    "    except FileNotFoundError:\n",
    "        print(f\"Erreur : Le fichier '{nom_fichier}' n'existe pas.\")\n",
    "    except Exception as e:\n",
    "        print(f\"Erreur inattendue : {e}\")\n",
    "\n",
    "def ecrire_fichier(fichier_lire, fichier_ecrire):\n",
    "    try:\n",
    "        with open(fichier_lire, 'r') as fi_lire:\n",
    "            contenu = fi_lire.read()\n",
    "        with open(fichier_ecrire, 'w') as fi_ecrire:\n",
    "            fi_ecrire.write(contenu)\n",
    "        print(f\"Le contenu de '{fichier_lire}' a été copié dans '{fichier_ecrire}'.\")\n",
    "    except FileNotFoundError:\n",
    "        print(f\"Erreur : Le fichier '{fichier_lire}' n'existe pas.\")\n",
    "    except Exception as e:\n",
    "        print(f\"Erreur inattendue : {e}\")\n",
    "\n",
    "def compte_mots(nom_fichier):\n",
    "    try:\n",
    "        with open(nom_fichier, 'r') as fichier:\n",
    "            contenu = fichier.read()\n",
    "            mots = contenu.split()\n",
    "            nombre_mots = len(mots)\n",
    "            print(f\"Le fichier '{nom_fichier}' contient {nombre_mots} mots.\")\n",
    "    except FileNotFoundError:\n",
    "        print(f\"Erreur : Le fichier '{nom_fichier}' n'existe pas.\")\n",
    "    except Exception as e:\n",
    "        print(f\"Erreur inattendue : {e}\")\n",
    "\n",
    "lire_fichier(\"mon_fichier.txt\")\n",
    "ecrire_fichier(\"mon_fichier.txt\", \"reverse.txt\")\n",
    "lire_fichier(\"reverse.txt\")"
   ],
   "id": "ef44cf48eb91efc5",
   "outputs": [
    {
     "name": "stdout",
     "output_type": "stream",
     "text": [
      "vicegame\n",
      "goty\n",
      "2025\n",
      "steam\n",
      "Le contenu de 'mon_fichier.txt' a été copié dans 'reverse.txt'.\n",
      "vicegame\n",
      "goty\n",
      "2025\n",
      "steam\n"
     ]
    }
   ],
   "execution_count": 21
  },
  {
   "metadata": {},
   "cell_type": "markdown",
   "source": "Comparaison de fichiers",
   "id": "6d7bd28a701a1ca7"
  },
  {
   "metadata": {
    "ExecuteTime": {
     "end_time": "2025-09-24T10:55:27.984092Z",
     "start_time": "2025-09-24T10:55:27.974381Z"
    }
   },
   "cell_type": "code",
   "source": [
    "def comparaison(fichier1, fichier2):\n",
    "    try:\n",
    "        with open(fichier1, 'r') as fi1, open(fichier2, 'r') as fi2:\n",
    "            contenueA = fi1.read()\n",
    "            contenueB = fi2.read()\n",
    "            contenue1 = contenueA.split()\n",
    "            contenue2 = contenueB.split()\n",
    "            if contenue1 == contenue2:\n",
    "                print(\"Les deux fichiers sont identiques.\")\n",
    "            else:\n",
    "                idx_l = 1\n",
    "                print(\"Les deux fichiers sont différents.\")\n",
    "                while idx_l < max(len(contenue1), len(contenue2)) + 1:\n",
    "                    for ligne in contenue1:\n",
    "                        if idx_l <= len(contenue2):\n",
    "                            if ligne != contenue2[idx_l - 1]:\n",
    "                                print(f\"Ligne {idx_l} différente :\")\n",
    "                                print(f\"Fichier 1 : {ligne}\")\n",
    "                                print(f\"Fichier 2 : {contenue2[idx_l - 1]}\")\n",
    "                        else:\n",
    "                            print(f\"Ligne {idx_l} différente :\")\n",
    "                            print(f\"Fichier 1 : {ligne}\")\n",
    "                            print(\"Fichier 2 : (pas de ligne correspondante)\")\n",
    "                        idx_l += 1\n",
    "    except FileNotFoundError as e:\n",
    "        print(f\"Erreur : {e}\")\n",
    "    except Exception as e:\n",
    "        print(f\"Erreur inattendue : {e}\")\n",
    "\n",
    "fichierA = \"mon_fichier.txt\"\n",
    "fichierB = \"reverse.txt\"\n",
    "comparaison(fichierA, fichierB)"
   ],
   "id": "d11b41ab3e5d3b41",
   "outputs": [
    {
     "name": "stdout",
     "output_type": "stream",
     "text": [
      "Les deux fichiers sont différents.\n",
      "Ligne 4 différente :\n",
      "Fichier 1 : SteamAward\n",
      "Fichier 2 : steam\n",
      "Ligne 5 différente :\n",
      "Fichier 1 : steam\n",
      "Fichier 2 : (pas de ligne correspondante)\n"
     ]
    }
   ],
   "execution_count": 26
  },
  {
   "metadata": {},
   "cell_type": "markdown",
   "source": "Exercice 6 : Gestionnaire de fréquence de mot",
   "id": "9f2c520a91ac8965"
  },
  {
   "metadata": {
    "ExecuteTime": {
     "end_time": "2025-09-25T14:43:11.715432Z",
     "start_time": "2025-09-25T14:43:11.706793Z"
    }
   },
   "cell_type": "code",
   "source": [
    "def gesstionnaire_frequence(nom_fichier, seuil):\n",
    "    try:\n",
    "        with open(nom_fichier, 'r') as fichier:\n",
    "            contenue = fichier.read()\n",
    "            mots = contenue.split()\n",
    "            frequences = {}\n",
    "            mots_distincts = set()\n",
    "            for mot in mots:\n",
    "                mot = mot.lower()\n",
    "                mot = mot.strip('.,!?;\"()[]{}<>')\n",
    "                if mot in frequences:\n",
    "                    frequences[mot] += 1\n",
    "                    mots_distincts.add(mot)\n",
    "                else:\n",
    "                    frequences[mot] = 1\n",
    "            mots_frequents = {mot: freq for mot, freq in frequences.items()}\n",
    "            if mots_frequents:\n",
    "                for mot, freq in mots_frequents.items():\n",
    "                    print(f\"{mot}: {freq}\")\n",
    "            else:\n",
    "                print(f\"Aucun mot dans la phrase.\")\n",
    "            for mot, freq in mots_frequents.items():\n",
    "                if freq >= seuil:\n",
    "                    with open (\"mots_frequents.txt\", 'w') as fi:\n",
    "                        fi.write(f\"{mot}: {freq}\\n\")\n",
    "\n",
    "            print(mots)\n",
    "    except FileNotFoundError:\n",
    "        print(f\"Erreur : Le fichier '{nom_fichier}' n'existe pas.\")\n",
    "    except Exception as e:\n",
    "        print(f\"Erreur inattendue : {e}\")\n",
    "\n",
    "nom_fichier = \"mon_fichier.txt\"\n",
    "seuil = 2\n",
    "gesstionnaire_frequence(nom_fichier, seuil)"
   ],
   "id": "6e1afd974dc02d07",
   "outputs": [
    {
     "name": "stdout",
     "output_type": "stream",
     "text": [
      "vice: 1\n",
      "game: 2\n",
      "est: 1\n",
      "le: 1\n",
      "goty: 1\n",
      "24048: 1\n",
      "['vIce', 'game', 'est', 'le', 'game', 'goty', '24048.']\n"
     ]
    }
   ],
   "execution_count": 5
  }
 ],
 "metadata": {
  "kernelspec": {
   "display_name": "Python 3",
   "language": "python",
   "name": "python3"
  },
  "language_info": {
   "codemirror_mode": {
    "name": "ipython",
    "version": 2
   },
   "file_extension": ".py",
   "mimetype": "text/x-python",
   "name": "python",
   "nbconvert_exporter": "python",
   "pygments_lexer": "ipython2",
   "version": "2.7.6"
  }
 },
 "nbformat": 4,
 "nbformat_minor": 5
}
