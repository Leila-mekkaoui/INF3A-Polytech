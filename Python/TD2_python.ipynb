{
 "cells": [
  {
   "cell_type": "markdown",
   "metadata": {
    "id": "3RbCc6MK0pUe"
   },
   "source": "# **Serie 2 TD python**"
  },
  {
   "metadata": {},
   "cell_type": "markdown",
   "source": "# **Liste**"
  },
  {
   "cell_type": "markdown",
   "metadata": {},
   "source": [
    "Exercice 1"
   ]
  },
  {
   "cell_type": "code",
   "metadata": {
    "colab": {
     "base_uri": "https://localhost:8080/"
    },
    "id": "iz7hcTT908bG",
    "outputId": "33f7749f-dc33-42ca-e357-677d202d0626",
    "ExecuteTime": {
     "end_time": "2025-09-19T22:41:38.069557Z",
     "start_time": "2025-09-19T22:41:38.063594Z"
    }
   },
   "source": [
    "def filtre_pair_carres(liste):\n",
    "  carre=[]\n",
    "  for i in liste:\n",
    "    if i%2 == 0:\n",
    "      carre.append(i**2)\n",
    "\n",
    "  return carre\n",
    "\n",
    "L=[1, 2, 3, 4, 5, 6, -2, 0]\n",
    "print(filtre_pair_carres(L))"
   ],
   "outputs": [
    {
     "name": "stdout",
     "output_type": "stream",
     "text": [
      "[4, 16, 36, 4, 0]\n"
     ]
    }
   ],
   "execution_count": 1
  },
  {
   "cell_type": "markdown",
   "metadata": {},
   "source": [
    "Exercice 2"
   ]
  },
  {
   "cell_type": "code",
   "execution_count": 3,
   "metadata": {
    "id": "xQ9Oxx9C1WuD"
   },
   "outputs": [
    {
     "name": "stdout",
     "output_type": "stream",
     "text": [
      "[1, 1, 2, 3, 3, 4, 5, 6, 7]\n"
     ]
    }
   ],
   "source": [
    "def fusion_tri_sous_listes(liste_de_listes):\n",
    "  #fusionne la liste\n",
    "  liste_fusion=[]\n",
    "  for i in liste_de_listes:\n",
    "    liste_fusion.extend(i)\n",
    "\n",
    "  for j in range(len(liste_fusion)):\n",
    "    ind_min=j\n",
    "    for k in range(j+1, len(liste_fusion)):\n",
    "      if liste_fusion[k]<liste_fusion[ind_min]:\n",
    "        ind_min=k\n",
    "\n",
    "    temp = liste_fusion[j]\n",
    "    liste_fusion[j] = liste_fusion[ind_min]\n",
    "    liste_fusion[ind_min] = temp\n",
    "\n",
    "  return liste_fusion\n",
    "    \n",
    "L = [[3, 1], [4, 2], [7, 5, 6], [3, 1]]\n",
    "print(fusion_tri_sous_listes(L))"
   ]
  },
  {
   "cell_type": "markdown",
   "metadata": {},
   "source": [
    "Exercice 3"
   ]
  },
  {
   "cell_type": "code",
   "execution_count": 4,
   "metadata": {},
   "outputs": [
    {
     "name": "stdout",
     "output_type": "stream",
     "text": [
      "[4, 5, 1, 2, 3]\n"
     ]
    }
   ],
   "source": [
    "def remaniement_cycliste(liste, n):\n",
    "    n = n % len(liste)\n",
    "    return liste[-n:] + liste[:-n]\n",
    "# -n: → prend les n derniers éléments\n",
    "# :-n → ne prend pas les n derniers éléments\n",
    "\n",
    "L = [1, 2, 3, 4, 5]\n",
    "m = 7\n",
    "print(remaniement_cycliste(L, m))"
   ]
  },
  {
   "cell_type": "markdown",
   "metadata": {},
   "source": [
    "Exercice 4"
   ]
  },
  {
   "cell_type": "code",
   "execution_count": 5,
   "metadata": {},
   "outputs": [
    {
     "name": "stdout",
     "output_type": "stream",
     "text": [
      "[(3, 3), (2, 2), (1, 2), (4, 1), (5, 1)]\n"
     ]
    }
   ],
   "source": [
    "def elements_distincts(liste):\n",
    "    resultat = []\n",
    "    for elem in liste:\n",
    "        if not any(e[0] == elem for e in resultat):\n",
    "            resultat.append((elem, liste.count(elem)))\n",
    "    \n",
    "    n = len(resultat)\n",
    "    for i in range(n):\n",
    "        max_index = i\n",
    "        for j in range(i+1, n):\n",
    "            if resultat[j][1] > resultat[max_index][1]:\n",
    "                max_index = j\n",
    "        resultat[i], resultat[max_index] = resultat[max_index], resultat[i]\n",
    "    \n",
    "    return resultat\n",
    "\n",
    "L = [1, 2, 3, 2, 4, 5, 1, 3, 3]\n",
    "print(elements_distincts(L))"
   ]
  },
  {
   "cell_type": "markdown",
   "metadata": {},
   "source": [
    "Exercice 5"
   ]
  },
  {
   "cell_type": "code",
   "execution_count": 6,
   "metadata": {},
   "outputs": [
    {
     "name": "stdout",
     "output_type": "stream",
     "text": [
      "[2, 1, 4, 3, 6, 5, 7, 9, 7, 5]\n"
     ]
    }
   ],
   "source": [
    "def melange_complexe(liste):\n",
    "    liste_melange=[]\n",
    "    \n",
    "    liste_pair = [i for i in liste if i % 2 == 0] \n",
    "    liste_impair = [i for i in liste if i % 2 != 0]\n",
    "\n",
    "    for i in range(min(len(liste_pair), len(liste_impair))):\n",
    "        liste_melange.append(liste_pair[i])\n",
    "        liste_melange.append(liste_impair[i])\n",
    "\n",
    "    if len(liste_pair) > len(liste_impair):\n",
    "        liste_melange.extend(liste_pair[len(liste_impair):])\n",
    "    else:\n",
    "        liste_melange.extend(liste_impair[len(liste_pair):])\n",
    "\n",
    "    return liste_melange\n",
    "\n",
    "L = [1, 2, 3, 4, 5, 6, 7, 9, 7, 5]\n",
    "print(melange_complexe(L))"
   ]
  },
  {
   "cell_type": "markdown",
   "metadata": {},
   "source": [
    "Exercice 6"
   ]
  },
  {
   "cell_type": "code",
   "execution_count": 7,
   "metadata": {},
   "outputs": [
    {
     "name": "stdout",
     "output_type": "stream",
     "text": [
      "32\n"
     ]
    }
   ],
   "source": [
    "def produit_scalaire(liste1, liste2):\n",
    "    produit=[]\n",
    "\n",
    "    for i, j in zip(liste1, liste2): #renvoie le tuple \n",
    "        produit.append(i*j)\n",
    "    \n",
    "    return sum(produit)\n",
    "\n",
    "L1 = [1, 2, 3]\n",
    "L2 = [4, 5, 6]\n",
    "print(produit_scalaire(L1, L2))"
   ]
  },
  {
   "cell_type": "markdown",
   "metadata": {},
   "source": "## **Dictionnaires**"
  },
  {
   "cell_type": "markdown",
   "metadata": {},
   "source": [
    "Exercice 1"
   ]
  },
  {
   "cell_type": "code",
   "execution_count": 8,
   "metadata": {},
   "outputs": [
    {
     "name": "stdout",
     "output_type": "stream",
     "text": [
      "{1: 'a', 8: 'a', 2: 'b', 5: 'b', 3: 'c', 9: 'c'}\n"
     ]
    }
   ],
   "source": [
    "def inverser_dictionnaire(dico):\n",
    "    dico_inverser={}\n",
    "    for cle, valeur in dico.items():\n",
    "        for v in valeur:\n",
    "            dico_inverser[v] = cle\n",
    "    return dico_inverser\n",
    "\n",
    "dicos = {'a': [1, 8], 'b': [2, 5], 'c': [3, 9]}\n",
    "print(inverser_dictionnaire(dicos))"
   ]
  },
  {
   "cell_type": "markdown",
   "metadata": {},
   "source": [
    "Exercice 2"
   ]
  },
  {
   "cell_type": "code",
   "execution_count": 9,
   "metadata": {},
   "outputs": [
    {
     "name": "stdout",
     "output_type": "stream",
     "text": [
      "{'a': 1, 'b': 5, 'c': 7, 'd': 'chien chat'}\n"
     ]
    }
   ],
   "source": [
    "def fusion_dico(dico1, dico2):\n",
    "    dico_fusion=dico1.copy()\n",
    "\n",
    "    for cle, valeur in dico2.items():\n",
    "        if cle in dico_fusion:\n",
    "            if isinstance(valeur, str):\n",
    "                dico_fusion[cle] += ' ' + valeur\n",
    "            else:\n",
    "                dico_fusion[cle] += valeur\n",
    "        else:\n",
    "            dico_fusion[cle] = valeur\n",
    "\n",
    "    return dico_fusion\n",
    "\n",
    "dicoA = {'a': 1, 'b': 2, 'c': 3, 'd': \"chien\"}\n",
    "dicoB = {'b': 3, 'c': 4, 'd': \"chat\"}\n",
    "\n",
    "print(fusion_dico(dicoA, dicoB))"
   ]
  },
  {
   "cell_type": "markdown",
   "metadata": {},
   "source": [
    "Exercice 3"
   ]
  },
  {
   "cell_type": "code",
   "execution_count": 10,
   "metadata": {},
   "outputs": [
    {
     "name": "stdout",
     "output_type": "stream",
     "text": [
      "{'rouge': ['a', 'c'], 'bleu': ['b', 'e'], 'vert': ['d']}\n"
     ]
    }
   ],
   "source": [
    "def regrouper_par_valeur(dico):\n",
    "    dico_regroupe={}\n",
    "    for cle, valeur in dico.items():\n",
    "        if valeur not in dico_regroupe:\n",
    "            dico_regroupe[valeur] = [cle]\n",
    "        else:\n",
    "            dico_regroupe[valeur].append(cle)\n",
    "    return dico_regroupe\n",
    "\n",
    "dicos = {'a': 'rouge', 'b': 'bleu', 'c': 'rouge', 'd': 'vert', 'e': 'bleu'}\n",
    "print(regrouper_par_valeur(dicos))"
   ]
  },
  {
   "cell_type": "markdown",
   "metadata": {},
   "source": [
    "Exercice 4"
   ]
  },
  {
   "cell_type": "code",
   "execution_count": 11,
   "metadata": {},
   "outputs": [
    {
     "name": "stdout",
     "output_type": "stream",
     "text": [
      "{'le': 5, 'chat': 2, 'et': 1, 'chien': 2, 'aime': 1, 'lait': 1, 'est': 1, 'là': 1}\n"
     ]
    }
   ],
   "source": [
    "def frequence_mots(phrase):\n",
    "    dico_frequence={}\n",
    "\n",
    "    phrase = phrase.lower()\n",
    "    phrase = phrase.replace('.', '')\n",
    "    mots = phrase.split(' ')\n",
    "\n",
    "    for mot in mots:\n",
    "        if mot in dico_frequence:\n",
    "            dico_frequence[mot] += 1\n",
    "        else:\n",
    "            dico_frequence[mot] = 1 \n",
    "\n",
    "    return dico_frequence\n",
    "\n",
    "phrases = \"le chat et le chien. Le chat aime le lait. Le chien est là\"\n",
    "print(frequence_mots(phrases))"
   ]
  },
  {
   "cell_type": "markdown",
   "metadata": {},
   "source": [
    "Exercice 5"
   ]
  },
  {
   "cell_type": "code",
   "execution_count": null,
   "metadata": {},
   "outputs": [
    {
     "name": "stdout",
     "output_type": "stream",
     "text": [
      "['c', 'a', 'd', 'e', 'f']\n"
     ]
    }
   ],
   "source": [
    "def trier_par_valeur(dico):\n",
    "    cle_trier=[]\n",
    "\n",
    "    while dico:\n",
    "        cle_max = min(dico, key=lambda k: (-dico[k], k))\n",
    "        cle_trier.append(cle_max)\n",
    "        del dico[cle_max]\n",
    "\n",
    "    return cle_trier\n",
    "\n",
    "dicos = {'a': 2, 'f': 1, 'c': 3, 'd': 2, 'e': 1}\n",
    "print(trier_par_valeur(dicos))"
   ]
  },
  {
   "cell_type": "markdown",
   "metadata": {},
   "source": "## **Ensemble**"
  },
  {
   "cell_type": "markdown",
   "metadata": {},
   "source": [
    "Exercice 1"
   ]
  },
  {
   "cell_type": "code",
   "execution_count": 28,
   "metadata": {},
   "outputs": [
    {
     "name": "stdout",
     "output_type": "stream",
     "text": [
      "{2, 3}\n"
     ]
    }
   ],
   "source": [
    "def max_intersection(ensemble, sous_ensembles):\n",
    "    max_inter = set()\n",
    "    sous = set()\n",
    "    for s in sous_ensembles:\n",
    "        inter = ensemble & s\n",
    "        if len(inter) > len(max_inter):\n",
    "            max_inter = inter\n",
    "            sous = s\n",
    "\n",
    "    return sous\n",
    "\n",
    "jdd_ensemble = {1, 2, 3, 4, 5}\n",
    "jdd_sous_ensembles = [{2, 3}, {1, 4, 6}, {4, 5, 6}]\n",
    "print(max_intersection(jdd_ensemble, jdd_sous_ensembles))"
   ]
  },
  {
   "cell_type": "markdown",
   "metadata": {},
   "source": [
    "Exercice 2"
   ]
  },
  {
   "cell_type": "code",
   "execution_count": 35,
   "metadata": {},
   "outputs": [
    {
     "name": "stdout",
     "output_type": "stream",
     "text": [
      "[{1}, {1, 2}, {2}]\n"
     ]
    }
   ],
   "source": [
    "def combinaisons_uniques(liste):\n",
    "    if len(liste) < 2:\n",
    "        return liste\n",
    "    \n",
    "    ensembles = []\n",
    "\n",
    "    for k in liste:\n",
    "        for l in liste:\n",
    "            if {k} not in ensembles:\n",
    "                ensembles.append({k})\n",
    "            if k != l and {k, l} not in ensembles and {l, k} not in ensembles:\n",
    "                ensembles.append({k, l})\n",
    "\n",
    "    \n",
    "    return ensembles\n",
    "\n",
    "L = [1, 2, 2]\n",
    "print(combinaisons_uniques(L))"
   ]
  },
  {
   "cell_type": "markdown",
   "metadata": {},
   "source": [
    "Exercice 3"
   ]
  },
  {
   "cell_type": "code",
   "execution_count": 38,
   "metadata": {},
   "outputs": [
    {
     "name": "stdout",
     "output_type": "stream",
     "text": [
      "0.5\n"
     ]
    }
   ],
   "source": [
    "def similarite(ensemble1, ensemble2):\n",
    "    inter = ensemble1 & ensemble2\n",
    "    union = ensemble1 | ensemble2\n",
    "\n",
    "    if not union:\n",
    "        return 0.0\n",
    "\n",
    "    return len(inter) / len(union)\n",
    "\n",
    "E1 = {1, 2, 3}\n",
    "E2 = {2, 3, 4}\n",
    "\n",
    "print(similarite(E1, E2))"
   ]
  },
  {
   "cell_type": "markdown",
   "metadata": {},
   "source": [
    "Exercice 4"
   ]
  },
  {
   "cell_type": "code",
   "metadata": {
    "ExecuteTime": {
     "end_time": "2025-09-19T23:02:00.383956Z",
     "start_time": "2025-09-19T23:02:00.377567Z"
    }
   },
   "source": [
    "def difference_cumulative(ensembles):\n",
    "    ensemble_diff = ensembles[0]\n",
    "    for e in ensembles[1:]:\n",
    "        if ensemble_diff:\n",
    "            ensemble_diff = ensemble_diff - e\n",
    "    if ensemble_diff :\n",
    "        return ensemble_diff\n",
    "    else:\n",
    "        return {}\n",
    "\n",
    "jdd_ensembles = [{1, 2, 3, 4}, {2, 3}, {1, 4, 5}]\n",
    "\n",
    "print(difference_cumulative(jdd_ensembles))"
   ],
   "outputs": [
    {
     "name": "stdout",
     "output_type": "stream",
     "text": [
      "{}\n"
     ]
    }
   ],
   "execution_count": 25
  },
  {
   "metadata": {},
   "cell_type": "markdown",
   "source": "Exercice 5"
  },
  {
   "metadata": {
    "ExecuteTime": {
     "end_time": "2025-09-24T09:42:57.418003Z",
     "start_time": "2025-09-24T09:42:57.411614Z"
    }
   },
   "cell_type": "code",
   "source": [
    "def commun_groupe(groupes):\n",
    "    dict_group = {}\n",
    "    compteur = 0\n",
    "    for group in groupes:\n",
    "        commun_list = group[0]\n",
    "        for liste in group[1:]:\n",
    "            commun_list = set(liste) & commun_list\n",
    "        dict_group[compteur]= commun_list\n",
    "        compteur += 1\n",
    "    return dict_group\n",
    "\n",
    "groupes_jeu_de_donnee = [[{1, 2, 3}, {2, 3, 4}], [{5, 6}, {6, 7}], [{8, 9}, {9, 10}, {11}]]\n",
    "print(commun_groupe(groupes_jeu_de_donnee))\n"
   ],
   "outputs": [
    {
     "name": "stdout",
     "output_type": "stream",
     "text": [
      "{0: {2, 3}, 1: {6}, 2: set()}\n"
     ]
    }
   ],
   "execution_count": 1
  },
  {
   "metadata": {},
   "cell_type": "markdown",
   "source": "Exercice 6"
  },
  {
   "metadata": {
    "ExecuteTime": {
     "end_time": "2025-09-24T09:57:32.356078Z",
     "start_time": "2025-09-24T09:57:32.349968Z"
    }
   },
   "cell_type": "code",
   "source": [
    "def sous_ensemble_croise(ensemble1, ensemble2):\n",
    "    for e in ensemble1:\n",
    "        if not e.issubset(ensemble2):\n",
    "            return False\n",
    "    return True\n",
    "\n",
    "\n",
    "E1 = [{1, 2}, {3}, {4, 5}]\n",
    "E2 = {1, 2, 3, 4, 5, 6}\n",
    "print(sous_ensemble_croise(E1, E2))"
   ],
   "outputs": [
    {
     "name": "stdout",
     "output_type": "stream",
     "text": [
      "True\n"
     ]
    }
   ],
   "execution_count": 10
  },
  {
   "metadata": {},
   "cell_type": "markdown",
   "source": "Exercice 7"
  },
  {
   "metadata": {
    "ExecuteTime": {
     "end_time": "2025-09-24T10:04:14.866962Z",
     "start_time": "2025-09-24T10:04:14.858683Z"
    }
   },
   "cell_type": "code",
   "source": [
    "def chaine_unique(ensemble):\n",
    "    chaine = []\n",
    "    for mots in ensemble:\n",
    "        list_lettre = list(mots)\n",
    "        for l in list_lettre:\n",
    "            if l not in chaine:\n",
    "                chaine.append(l)\n",
    "    chaine = (''.join(sorted(chaine)))\n",
    "    return chaine\n",
    "\n",
    "E = {'chat', 'chien', 'hibou'}\n",
    "print(chaine_unique(E))"
   ],
   "outputs": [
    {
     "name": "stdout",
     "output_type": "stream",
     "text": [
      "abcehinotu\n"
     ]
    }
   ],
   "execution_count": 15
  }
 ],
 "metadata": {
  "colab": {
   "provenance": []
  },
  "kernelspec": {
   "display_name": "Python 3 (ipykernel)",
   "name": "python3",
   "language": "python"
  },
  "language_info": {
   "codemirror_mode": {
    "name": "ipython",
    "version": 3
   },
   "file_extension": ".py",
   "mimetype": "text/x-python",
   "name": "python",
   "nbconvert_exporter": "python",
   "pygments_lexer": "ipython3",
   "version": "3.13.5"
  }
 },
 "nbformat": 4,
 "nbformat_minor": 0
}
